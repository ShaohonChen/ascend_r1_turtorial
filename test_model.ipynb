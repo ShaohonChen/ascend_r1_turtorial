{
 "cells": [
  {
   "cell_type": "code",
   "execution_count": null,
   "metadata": {},
   "outputs": [],
   "source": [
    "from transformers import AutoTokenizer\n",
    "\n",
    "tokenizer = AutoTokenizer.from_pretrained(\"/root/projects/ascend_r1_turtorial/output/qwen-3b-r1-coundown/checkpoint-425\")\n",
    "\n",
    "def generate_r1_prompt(numbers, target):\n",
    "    \"\"\"\n",
    "    生成 R1 Countdown 游戏提示词\n",
    "\n",
    "    参数:\n",
    "        numbers (list[int]): 数字列表\n",
    "        target (int): 目标值\n",
    "    返回:\n",
    "        dict: 生成的一个数据样本\n",
    "    \"\"\"\n",
    "    # 定义提示词前缀\n",
    "    r1_prefix = [\n",
    "        {\n",
    "            \"role\": \"user\",\n",
    "            \"content\": f\"使用给定的数字 {numbers}，创建一个等于 {target} 的方程。你可以使用基本算术运算（+、-、*、/）一次或多次，但每个数字只能使用一次。在 <think> </think> 标签中展示你的思考过程，并在 <answer> </answer> 标签中返回最终方程，例如 <answer> (1 + 2) / 3 </answer>。在 <think> 标签中逐步思考。\",\n",
    "        },\n",
    "        {\n",
    "            \"role\": \"assistant\",\n",
    "            \"content\": \"让我们逐步解决这个问题。\\n<think>\",  # 结尾使用 `<think>` 促使模型开始思考\n",
    "        },\n",
    "    ]\n",
    "\n",
    "    return  tokenizer.apply_chat_template(\n",
    "            r1_prefix, tokenize=False, continue_final_message=True)"
   ]
  },
  {
   "cell_type": "code",
   "execution_count": 9,
   "metadata": {},
   "outputs": [
    {
     "name": "stdout",
     "output_type": "stream",
     "text": [
      "<|im_start|>system\n",
      "You are Qwen, created by Alibaba Cloud. You are a helpful assistant.<|im_end|>\n",
      "<|im_start|>user\n",
      "使用给定的数字 [2, 3, 4]，创建一个等于 5 的方程。你可以使用基本算术运算（+、-、*、/）一次或多次，但每个数字只能使用一次。在 <think> </think> 标签中展示你的思考过程，并在 <answer> </answer> 标签中返回最终方程，例如 <answer> (1 + 2) / 3 </answer>。在 <think> 标签中逐步思考。<|im_end|>\n",
      "<|im_start|>assistant\n",
      "让我们逐步解决这个问题。\n",
      "<think>\n"
     ]
    }
   ],
   "source": [
    "text=generate_r1_prompt([2,3,4],5)\n",
    "print(text)"
   ]
  },
  {
   "cell_type": "code",
   "execution_count": 10,
   "metadata": {},
   "outputs": [
    {
     "data": {
      "application/vnd.jupyter.widget-view+json": {
       "model_id": "c31c3a6241ce4089acff858f66a0c454",
       "version_major": 2,
       "version_minor": 0
      },
      "text/plain": [
       "Loading checkpoint shards:   0%|          | 0/2 [00:00<?, ?it/s]"
      ]
     },
     "metadata": {},
     "output_type": "display_data"
    }
   ],
   "source": [
    "import torch\n",
    "\n",
    "from transformers import AutoModelForCausalLM\n",
    "device = \"cuda:3\"\n",
    "model = AutoModelForCausalLM.from_pretrained(\n",
    "    \"output/qwen-3b-r1-coundown/checkpoint-425\",\n",
    "    torch_dtype=torch.bfloat16,\n",
    "    device_map=device\n",
    ")"
   ]
  },
  {
   "cell_type": "code",
   "execution_count": 11,
   "metadata": {},
   "outputs": [],
   "source": [
    "model_inputs = tokenizer([text], return_tensors=\"pt\").to(model.device)\n",
    "\n",
    "generated_ids = model.generate(\n",
    "    **model_inputs,\n",
    "    max_new_tokens=512,\n",
    ")\n",
    "generated_ids = [\n",
    "    output_ids[len(input_ids):] for input_ids, output_ids in zip(model_inputs.input_ids, generated_ids)\n",
    "]\n",
    "\n",
    "response = tokenizer.batch_decode(generated_ids, skip_special_tokens=True)[0]"
   ]
  },
  {
   "cell_type": "code",
   "execution_count": 12,
   "metadata": {},
   "outputs": [
    {
     "name": "stdout",
     "output_type": "stream",
     "text": [
      " 首先，我们需要找到一个方程，使得使用数字 2, 3, 和 4 一次且仅一次的结果是 5。我们可以尝试不同的组合。假设我们尝试 4 - 3 + 2，这样得到的结果是 3。这太少了。接下来尝试 4 + 3 - 2，这样得到的结果是 5。这是一个可行的解决方案。 </think>\n",
      "<answer> (4 + 3) - 2 </answer>\n"
     ]
    }
   ],
   "source": [
    "print(response)"
   ]
  },
  {
   "cell_type": "code",
   "execution_count": null,
   "metadata": {},
   "outputs": [],
   "source": []
  }
 ],
 "metadata": {
  "kernelspec": {
   "display_name": "train_r1",
   "language": "python",
   "name": "python3"
  },
  "language_info": {
   "codemirror_mode": {
    "name": "ipython",
    "version": 3
   },
   "file_extension": ".py",
   "mimetype": "text/x-python",
   "name": "python",
   "nbconvert_exporter": "python",
   "pygments_lexer": "ipython3",
   "version": "3.11.11"
  }
 },
 "nbformat": 4,
 "nbformat_minor": 2
}
